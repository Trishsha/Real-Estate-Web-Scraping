{
 "cells": [
  {
   "cell_type": "code",
   "execution_count": 16,
   "id": "a078ad97",
   "metadata": {},
   "outputs": [],
   "source": [
    "from bs4 import BeautifulSoup\n",
    "import requests\n",
    "import pandas as pd"
   ]
  },
  {
   "cell_type": "code",
   "execution_count": 53,
   "id": "a4f60a12",
   "metadata": {
    "scrolled": true
   },
   "outputs": [
    {
     "name": "stdout",
     "output_type": "stream",
     "text": [
      "[['                        Apartment Bilderdijkstraat                            ', '120 m²3 roomsUpholstered', '                €2,650 per month            ', '            1053 KN Amsterdam (Da Costabuurt)        '], ['                        Apartment Veembroederhof 177                            ', '146 m²3 roomsFurnished', '                €3,000 per month            ', '            1019 HD Amsterdam (Oostelijk Havengebied)        '], ['                        Apartment Rijnstraat                            ', '78 m²3 roomsFurnished', '                €2,450 per month            ', '            1078 PV Amsterdam (IJselbuurt)        '], ['                        Apartment Reyer Anslostraat 17 H                            ', '117 m²5 rooms1878', '                €3,000 per month            ', '            1054 KT Amsterdam (Overtoomse Sluis)        '], ['                        Apartment Vrolikstraat                            ', '57 m²2 rooms47 m²', '                €1,950 per month            ', '            1092 TW Amsterdam (Oosterparkbuurt)        '], ['                        Apartment Vondelstraat                            ', '125 m²3 rooms1870', '                €2,850 per month            ', '            1054 GE Amsterdam (Vondelbuurt)        '], ['                        Apartment Utrechtsestraat 40 1                            ', '120 m²2 roomsFurnished', '                €2,450 per month            ', '            1017 VP Amsterdam (Grachtengordel-Zuid)        '], ['                        House Holbeinstraat                            ', '201 m²5 roomsUpholstered', '                €6,000 per month            ', '            1077 VC Amsterdam (Apollobuurt)        '], ['                        Apartment Sarphatipark                            ', '83 m²3 roomsFurnished', '                €2,975 per month            ', '            1072 PB Amsterdam (Oude Pijp)        '], ['                        Apartment Wijsmullerstraat                            ', '55 m²2 roomsFurnished', '                €1,850 per month            ', '            1058 JG Amsterdam (Hoofddorppleinbuurt)        '], ['                        Apartment Herengracht                            ', '100 m²3 roomsFurnished', '                €2,750 per month            ', '            1015 BD Amsterdam (Grachtengordel-West)        '], ['                        Apartment Huidekoperstraat                            ', '65 m²3 roomsFurnished', '                €2,100 per month            ', '            1017 ZM Amsterdam (De Weteringschans)        '], ['                        Apartment Jacob van Lennepkade                            ', '41 m²2 roomsUpholstered', '                €1,650 per month            ', '            1053 NN Amsterdam (Van Lennepbuurt)        '], ['                        Apartment Theodoor van Hoytemastraat                            ', '89 m²3 roomsFurnished', '                €1,950 per month            ', '            1062 CG Amsterdam (Overtoomse Veld)        '], ['                        Apartment Prinsengracht                            ', '105 m²3 roomsUpholstered', '                €2,250 per month            ', '            1017 LC Amsterdam (De Weteringschans)        '], ['                        Apartment Koggestraat                            ', '92 m²3 roomsUpholstered or furnished', '                €2,950 per month            ', '            1012 TA Amsterdam (Burgwallen-Nieuwe Zijde)        '], ['                        Apartment Admiralengracht 52 2                            ', '60 m²2 roomsFurnished', '                €1,500 per month            ', '            1057 GA Amsterdam (Chassébuurt)        '], ['                        Apartment Woestduinstraat                            ', '55 m²2 roomsFurnished', '                €1,850 per month            ', '            1059 TA Amsterdam (Hoofddorppleinbuurt)        '], ['                        Apartment Kinkerstraat                            ', '54 m²3 roomsUpholstered or furnished', '                €2,250 per month            ', '            1053 GG Amsterdam (Van Lennepbuurt)        '], ['                        Apartment Waterlooplein                            ', '45 m²2 roomsFurnished', '                €1,600 per month            ', '            1011 PG Amsterdam (Nieuwmarkt/Lastage)        '], ['                        Apartment Nieuwezijds Voorburgwal                            ', '100 m²3 roomsUpholstered or furnished', '                €3,000 per month            ', '            1012 RZ Amsterdam (Burgwallen-Nieuwe Zijde)        '], ['                        Apartment Nieuwezijds Voorburgwal 18 B                            ', '100 m²3 roomsUpholstered or furnished', '                €3,000 per month            ', '            1012 RZ Amsterdam (Burgwallen-Nieuwe Zijde)        '], ['                        Apartment Nieuwezijds Voorburgwal                            ', '100 m²3 roomsUpholstered or furnished', '                €3,250 per month            ', '            1012 RZ Amsterdam (Burgwallen-Nieuwe Zijde)        '], ['                        Apartment Bentinckstraat                            ', '87 m²3 roomsFurnished', '                €2,500 per month            ', '            1051 GD Amsterdam (Staatsliedenbuurt)        '], ['                        Apartment Nassaukade                            ', '40 m²2 roomsUpholstered', '                €1,600 per month            ', '            1053 LK Amsterdam (Da Costabuurt)        '], ['                        Apartment Gravenstraat                            ', '55 m²2 roomsFurnished', '                €1,900 per month            ', '            1012 NL Amsterdam (Burgwallen-Nieuwe Zijde)        '], ['                        Apartment Loenermark                            ', '75 m²3 roomsFurnished', '                €1,950 per month            ', '            1025 TP Amsterdam (Buikslotermeer)        '], ['                        Apartment KNSM-laan 360                            ', '72 m²3 roomsFurnished', '                €1,950 per month            ', '            1019 LN Amsterdam (Oostelijk Havengebied)        '], ['                        Apartment Cornelis van Rijplantsoen 3                            ', '91 m²3 roomsFurnished', '                €1,950 per month            ', '            1063 MC Amsterdam (Slotermeer-Noordoost)        '], ['                        Apartment Weerdestein 90                            ', '110 m²4 roomsFurnished', '                €2,500 per month            ', '            1083 GG Amsterdam (Buitenveldert-Oost)        '], ['                        Apartment Leenhofstraat                            ', '69 m²3 roomsFurnished', '                €1,750 per month            ', '            1067 KW Amsterdam (Geuzenveld)        '], ['                        Apartment Admiraal De Ruijterweg 178 E                            ', '75 m²3 roomsFurnished', '                €2,000 per month            ', '            1056 GZ Amsterdam (Landlust)        ']]\n"
     ]
    }
   ],
   "source": [
    "url= \"https://www.pararius.com/apartments/amsterdam?ac=1\"\n",
    "page = requests.get(url)\n",
    "\n",
    "soup = BeautifulSoup(page.content, 'html.parser')\n",
    "lists = soup.find_all('section', class_=\"listing-search-item\")\n",
    "\n",
    "list_of_lists=[]    \n",
    "for list in lists:\n",
    "        list_of_data=[]\n",
    "        title = list.find('a', class_=\"listing-search-item__link--title\").text.replace('\\n','')\n",
    "        feautres = list.find('div', class_=\"listing-search-item__features\").text.replace('\\n','')\n",
    "        price = list.find('div', class_=\"listing-search-item__price\").text.replace('\\n','')\n",
    "        area = list.find('div', class_=\"listing-search-item__sub-title\").text.replace('\\n','')\n",
    "        \n",
    "        list_of_data.append(title)\n",
    "        list_of_data.append(feautres)\n",
    "        list_of_data.append(price)\n",
    "        list_of_data.append(area)\n",
    "        list_of_lists.append(list_of_data)\n",
    "print(list_of_lists)\n",
    "\n",
    "df=pd.DataFrame(list_of_lists, columns=['title', 'features', 'price', 'area'])\n",
    "df.to_csv('housing_data.csv',index=False)"
   ]
  },
  {
   "cell_type": "code",
   "execution_count": null,
   "id": "64b5e3e7",
   "metadata": {},
   "outputs": [],
   "source": []
  },
  {
   "cell_type": "code",
   "execution_count": null,
   "id": "9e68ba1e",
   "metadata": {},
   "outputs": [],
   "source": []
  },
  {
   "cell_type": "code",
   "execution_count": null,
   "id": "3fadb176",
   "metadata": {},
   "outputs": [],
   "source": []
  }
 ],
 "metadata": {
  "kernelspec": {
   "display_name": "Python 3 (ipykernel)",
   "language": "python",
   "name": "python3"
  },
  "language_info": {
   "codemirror_mode": {
    "name": "ipython",
    "version": 3
   },
   "file_extension": ".py",
   "mimetype": "text/x-python",
   "name": "python",
   "nbconvert_exporter": "python",
   "pygments_lexer": "ipython3",
   "version": "3.9.12"
  }
 },
 "nbformat": 4,
 "nbformat_minor": 5
}
